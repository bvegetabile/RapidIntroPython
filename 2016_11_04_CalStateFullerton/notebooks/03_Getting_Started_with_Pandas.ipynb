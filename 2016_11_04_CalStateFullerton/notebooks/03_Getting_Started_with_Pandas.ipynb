{
 "cells": [
  {
   "cell_type": "markdown",
   "metadata": {},
   "source": [
    "# A Rapid and Informal Introduction to Python for Data Science\n",
    "\n",
    "# - Pandas Fundamentals\n",
    "\n",
    "#### Developed by:  Brian Vegetabile, PhD Candidate, University of California, Irvine\n",
    "\n",
    "This notebook is a supplement to the workshop \"A Rapid and Informal Introduction to Python for Data Science\"\n",
    "\n",
    "# Getting Started\n",
    "\n",
    "Import `pandas` as `pd` to get started"
   ]
  },
  {
   "cell_type": "code",
   "execution_count": 2,
   "metadata": {
    "collapsed": true
   },
   "outputs": [],
   "source": [
    "import pandas as pd"
   ]
  },
  {
   "cell_type": "markdown",
   "metadata": {},
   "source": [
    "# Pandas DataFrame\n",
    "\n",
    "Numpy arrays are a fantastic way to start to perform numerical computations in Python, but they aren't often the way that we think about data as data scientists.  We often think about data as 2-dimensional tables where each column represents another variable that we may be interested.  This is one of the reasons why Microsoft Excel is so prevalent for looking at data.  It clearly and concisely (this may be argued) organizes data for the user.  The `R` language mimics this structure with their dataframe objects. \n",
    "\n",
    "To emulate this data structure in Python, the `pandas` library provides the `DataFrame` object which is built upon `numpy.array` objects.  "
   ]
  },
  {
   "cell_type": "code",
   "execution_count": null,
   "metadata": {
    "collapsed": true
   },
   "outputs": [],
   "source": [
    "One of the"
   ]
  }
 ],
 "metadata": {
  "kernelspec": {
   "display_name": "Python 2",
   "language": "python",
   "name": "python2"
  },
  "language_info": {
   "codemirror_mode": {
    "name": "ipython",
    "version": 2
   },
   "file_extension": ".py",
   "mimetype": "text/x-python",
   "name": "python",
   "nbconvert_exporter": "python",
   "pygments_lexer": "ipython2",
   "version": "2.7.11"
  }
 },
 "nbformat": 4,
 "nbformat_minor": 0
}
