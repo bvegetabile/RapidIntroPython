{
 "cells": [
  {
   "cell_type": "markdown",
   "metadata": {},
   "source": [
    "# A Rapid and Informal Introduction to Python for Data Science\n",
    "\n",
    "# - The Python Fundamentals\n",
    "\n",
    "#### Developed by:  Brian Vegetabile, PhD Candidate, University of California, Irvine\n",
    "\n",
    "This notebook is a supplement to the workshop \"A Rapid Informal Introduction to Python for Data Science\"\n",
    "\n",
    "# Python Exercises\n",
    "\n",
    "## Exercise 1 - Investigate the Variable Types\n",
    "\n",
    "Create a variable of each type:\n",
    "- Boolean\n",
    "- Integer\n",
    "- Float\n",
    "- List\n",
    "- Dictionary"
   ]
  },
  {
   "cell_type": "code",
   "execution_count": null,
   "metadata": {
    "collapsed": false
   },
   "outputs": [],
   "source": []
  },
  {
   "cell_type": "markdown",
   "metadata": {},
   "source": [
    "## Exercise 2 - Investigate Integer Division\n",
    "\n",
    "Consider the following variables below.  Modify the code so that 1.5 is returned as opposed to 1.0\n",
    "\n",
    "```python\n",
    "int_value1 = 3\n",
    "int_value2 = 2\n",
    "print int_value1 / int_value2\n",
    "```"
   ]
  },
  {
   "cell_type": "code",
   "execution_count": 14,
   "metadata": {
    "collapsed": false
   },
   "outputs": [
    {
     "data": {
      "text/plain": [
       "1.5"
      ]
     },
     "execution_count": 14,
     "metadata": {},
     "output_type": "execute_result"
    }
   ],
   "source": []
  },
  {
   "cell_type": "markdown",
   "metadata": {},
   "source": [
    "## Exercise 3 - Collections and Loops\n",
    "\n",
    "We're going to write a few programs here:\n",
    "\n",
    "- A short program which uses a `for` loop that iterates over the list and prints each name\n",
    "- A short program which uses a `for` loop that iterates over the list and prints each name **and** its location in the list\n",
    "    - Do this a few different ways:\n",
    "        - Create a counter within the standard loop\n",
    "        - Use the `range()` function \n",
    "        - Use the `enumerate()` function\n",
    "- A short program which uses a `while` loop to print each name.\n",
    "    - Note you will want to create a counter to do this"
   ]
  },
  {
   "cell_type": "code",
   "execution_count": null,
   "metadata": {
    "collapsed": true
   },
   "outputs": [],
   "source": [
    "bag_of_names = ['Brian', 'Steve', 'Michael', 'Ross', 'Brett', 'Chris', 'Dan']"
   ]
  },
  {
   "cell_type": "markdown",
   "metadata": {},
   "source": [
    "## Exercise 4 - Fizz Buzz (Logical Operations and Loops)\n",
    "\n",
    "This exercise focuses on understanding the precedence of conditional statements.  Write a function called `fizz_buzz()` which accepts an integer $n$.  The program should test each number from zero to $n$ and for multiples of three print “Fizz” and the number and for the multiples of five print “Buzz” and the number. For numbers which are multiples of both three and five print “FizzBuzz”.  "
   ]
  },
  {
   "cell_type": "code",
   "execution_count": null,
   "metadata": {
    "collapsed": true
   },
   "outputs": [],
   "source": []
  },
  {
   "cell_type": "markdown",
   "metadata": {},
   "source": [
    "\n",
    "\n"
   ]
  }
 ],
 "metadata": {
  "kernelspec": {
   "display_name": "Python 2",
   "language": "python",
   "name": "python2"
  },
  "language_info": {
   "codemirror_mode": {
    "name": "ipython",
    "version": 2
   },
   "file_extension": ".py",
   "mimetype": "text/x-python",
   "name": "python",
   "nbconvert_exporter": "python",
   "pygments_lexer": "ipython2",
   "version": "2.7.11"
  }
 },
 "nbformat": 4,
 "nbformat_minor": 0
}
