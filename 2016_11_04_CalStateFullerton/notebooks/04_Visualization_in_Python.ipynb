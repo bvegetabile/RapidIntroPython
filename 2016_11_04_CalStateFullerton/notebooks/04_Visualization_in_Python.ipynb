{
 "cells": [
  {
   "cell_type": "markdown",
   "metadata": {},
   "source": [
    "# A Rapid and Informal Introduction to Python for Data Science\n",
    "\n",
    "# - Visualization in Python\n",
    "\n",
    "#### Developed by:  Brian Vegetabile, PhD Candidate, University of California, Irvine\n",
    "\n",
    "This notebook is a supplement to the workshop \"A Rapid and Informal Introduction to Python for Data Science\"\n",
    "\n",
    "# Getting Started\n",
    "\n",
    "We get started as usual.  Often these are the first two lines in your workbook or script when you're analzing data.\n",
    "\n",
    "```python\n",
    "import numpy as np\n",
    "import pandas as pd\n",
    "```\n",
    "\n",
    "For visualization we will add two new lines\n",
    "```python\n",
    "import matplotlib.pyplot as plt \n",
    "%matplotlib inline\n",
    "```\n",
    "The last command is **magic** command in jupyter notebooks.  It essentially tells the Jupyter notebook that you want to render the images we're creating under the block of code which has just run.  This is all I'll mention about magic commands for the day."
   ]
  },
  {
   "cell_type": "code",
   "execution_count": null,
   "metadata": {
    "collapsed": false
   },
   "outputs": [],
   "source": [
    "import numpy as np\n",
    "import pandas as pd\n",
    "import matplotlib.pyplot as plt \n",
    "%matplotlib inline"
   ]
  },
  {
   "cell_type": "markdown",
   "metadata": {},
   "source": [
    "# Plotting with Pandas\n",
    "\n",
    "To get out of the gate running with minimal effort, let's start by bringing in the data again that we just merged into an object we provide the identifier `baseball`.  Perform a `describe` on the data again to see what it does when there are missing values.\n",
    "\n",
    "Don't forget where you output the file to and its name."
   ]
  },
  {
   "cell_type": "code",
   "execution_count": null,
   "metadata": {
    "collapsed": false
   },
   "outputs": [],
   "source": [
    "baseball = pd.read_csv('../data/allbaseball.csv')\n",
    "baseball.describe()"
   ]
  },
  {
   "cell_type": "markdown",
   "metadata": {},
   "source": [
    "### Univariate Summary Plots\n",
    "\n",
    "Let's start to see what plotting capabilities are naturally available to us from pandas without any other plotting libraries. One of the most common plotting univariate techniques is the `histogram` which provides the distribution of the values of a variable.  \n",
    "\n",
    "Let's select `baseball.Salary` and begin to make a plot\n",
    "\n",
    "First we call\n",
    "\n",
    "```python\n",
    "baseball.Salary.hist()\n",
    "plt.xlabel('Salary')\n",
    "plt.ylabel('Frequency')\n",
    "plt.title('Salaries of Baseball Players from 1992')\n",
    "plt.show()\n",
    "```\n",
    "This builds a basic plot from the salary data and adds labels to the `x` and `y` axes, as well as a title.  The `plt` functionality is how you can add extra features to the plot.  The command `plt.show()` is used when everything is finished to display the plot.  (Note that it will plot without it but a bar of text will be displayed above the plot like `<matplotlib.text.Text at 0x11aa68650>`)\n",
    "\n"
   ]
  },
  {
   "cell_type": "code",
   "execution_count": null,
   "metadata": {
    "collapsed": false
   },
   "outputs": [],
   "source": [
    "baseball.Salary.hist()\n",
    "plt.xlabel('Salary')\n",
    "plt.ylabel('Frequency')\n",
    "plt.title('Salaries of Baseball Players from 1992')\n",
    "plt.show()"
   ]
  },
  {
   "cell_type": "markdown",
   "metadata": {},
   "source": [
    "### Mini Exercise\n",
    "\n",
    "Pandas additionally provides the box plot through the chaining of commands on a pandas DataFrame.  Try to create a `boxplot` of the salary data.  Additionally use the `help()` command to see how the function works and try to create a box plot of just the hits, doubles, triples and home runs (HR).  "
   ]
  },
  {
   "cell_type": "code",
   "execution_count": null,
   "metadata": {
    "collapsed": false,
    "scrolled": true
   },
   "outputs": [],
   "source": [
    "baseball[['Hits', 'Doubles', 'Triples', 'HR']].plot.box()"
   ]
  },
  {
   "cell_type": "markdown",
   "metadata": {
    "collapsed": false
   },
   "source": [
    "Finally there is another univarviate plot which I often find helpful and that is a density estimate plot.  This is essentially, without getting into the details, a smoother over a histogram plot and often reveals a bit more information of the density than the histogram. \n",
    "\n",
    "We can do that by using\n",
    "\n",
    "```python\n",
    "baseball.Salary.plot.kde()\n",
    "plt.xlabel('Salary')\n",
    "plt.show()\n",
    "```\n",
    "\n",
    "`kde` stands for kernel density estimate."
   ]
  },
  {
   "cell_type": "code",
   "execution_count": null,
   "metadata": {
    "collapsed": false,
    "scrolled": true
   },
   "outputs": [],
   "source": [
    "baseball.Salary.plot.kde()\n",
    "plt.show()"
   ]
  },
  {
   "cell_type": "markdown",
   "metadata": {},
   "source": [
    "With this view of the data it looks as if the data may actually be multi-modal. "
   ]
  },
  {
   "cell_type": "markdown",
   "metadata": {},
   "source": [
    "### Bivariate Plotting - Scatter Plots\n",
    "\n",
    "Next we introduce the scatter plot on simple pandas DataFrames.  A scatter plot method is attached to the original DataFrame in the following way\n",
    "\n",
    "```python\n",
    "DataFrame.plot.scatter(x=Column1, y=column2)\n",
    "```\n",
    "\n",
    "We can quickly create a plot using the following commands \n",
    "\n",
    "```python\n",
    "baseball.plot.scatter(x = 'HR', y = 'Salary')\n",
    "plt.show()\n",
    "```\n",
    "\n",
    "This would allow us to ask the question was a players home run output related to his salary in 1992.  "
   ]
  },
  {
   "cell_type": "code",
   "execution_count": null,
   "metadata": {
    "collapsed": false,
    "scrolled": true
   },
   "outputs": [],
   "source": [
    "baseball.plot.scatter(x = 'HR', y = 'Salary')\n",
    "plt.show()"
   ]
  },
  {
   "cell_type": "markdown",
   "metadata": {},
   "source": [
    "### Creating Subplots on the Same Figure and Setting Axis Limits\n",
    "\n",
    "Creating subplots takes a little bit more effort, but mainly it boils down to defining a subplot region and a grid layout.  These values are then passed to a `fig` and `axes` identifer which are used to position specific plots.  Additionally in order to change the properties of many of the plots you can pass the actual plot to an identifier so that you can change things like x and y limits later.... Without going into too much detail here is an example.\n",
    "\n",
    "```python\n",
    "fig, axes = plt.subplots(nrows=2, ncols=2, figsize=(15,10))\n",
    "\n",
    "plt1 = baseball.Salary.plot.kde(ax=axes[0,0])\n",
    "plt1.set_xlim([0,7000])\n",
    "\n",
    "plt2 = baseball.plot.scatter(x='Hits', y='Salary', ax=axes[0,1])\n",
    "plt2.set_xlim([0, 250])\n",
    "plt2.set_ylim([0,7000])\n",
    "\n",
    "plt3 = baseball.Hits.plot.kde(ax=axes[1,1])\n",
    "plt3.set_xlim([0, 250])\n",
    "\n",
    "axes[1,0].axis('off')\n",
    "\n",
    "plt.show()\n",
    "```"
   ]
  },
  {
   "cell_type": "code",
   "execution_count": null,
   "metadata": {
    "collapsed": false
   },
   "outputs": [],
   "source": [
    "fig, axes = plt.subplots(nrows=2, ncols=2, figsize=(15,10))\n",
    "\n",
    "plt1 = baseball.Salary.plot.kde(ax=axes[0,0])\n",
    "plt1.set_xlim([0,7000])\n",
    "\n",
    "plt2 = baseball.plot.scatter(x='Hits', y='Salary', ax=axes[0,1], color='red')\n",
    "plt2.set_xlim([0, 250])\n",
    "plt2.set_ylim([0,7000])\n",
    "\n",
    "plt3 = baseball.Hits.plot.kde(ax=axes[1,1])\n",
    "plt3.set_xlim([0, 250])\n",
    "\n",
    "axes[1,0].axis('off')\n",
    "\n",
    "plt.show()"
   ]
  },
  {
   "cell_type": "markdown",
   "metadata": {},
   "source": [
    "### Exercise - Creating Plots with Iris Data\n",
    "\n",
    "This is a little bit more advanced than what has been shown, but it combines some of the skills that were learned earlier. Load the iris data and investigate the relationship between `PetalLegth` and `PetalWidth` by type.  \n",
    "\n",
    "Here is a general template for what you need to do:\n",
    "\n",
    "- As with the last worksheet you're going to want to use the `unique` function to get the Iris types and then iterate through those to create plots where each type has a different color.\n",
    "- Since there are three iris types you may want to create a subplot of two rows and three columns to plot the densities.  \n",
    "- \n",
    "If you're compelled investigate how to add a legend to the plots.  "
   ]
  },
  {
   "cell_type": "code",
   "execution_count": null,
   "metadata": {
    "collapsed": false
   },
   "outputs": [],
   "source": []
  },
  {
   "cell_type": "markdown",
   "metadata": {},
   "source": [
    "# Introducing Another Library - Seaborn\n",
    "\n",
    "Python plotting is incredibly simple but is not always the best to look at especially when we're in a world of new and exciting data visualizations all the time.  \n",
    "\n",
    "The package `seaborn` provides very appealing visuals.  Similiar to the way in which `pandas` was created on top of `numpy` to give more functionality, `seaborn` was built on top of `matplotlib` the plotting package that we've been working with so far today.  \n",
    "\n",
    "I won't dive too deep into this package, but did want to highlight that it exists for those of you that want more striking presentations of your data right out of the box. \n",
    "\n",
    "The common identifier for `seaborn` is `sns`... so\n",
    "\n",
    "```python\n",
    "import seaborn as sns\n",
    "```"
   ]
  },
  {
   "cell_type": "code",
   "execution_count": null,
   "metadata": {
    "collapsed": true
   },
   "outputs": [],
   "source": [
    "import seaborn as sns"
   ]
  },
  {
   "cell_type": "markdown",
   "metadata": {},
   "source": [
    "### One of my favorite exploratory plots - Paired Scatter Plots\n",
    "\n",
    "One of the reasons for introducing this package is to highlight one of my favorite exploratory methods for visualizing the relationship between data.  \n",
    "\n",
    "Below I've included a sample piece of code which should create a paired plot for the baseball data.  \n",
    "\n",
    "```python\n",
    "hit_performance = baseball[['Hits', 'Doubles', 'Triples', 'HR', 'Salary']].dropna()\n",
    "\n",
    "sns.set(style=\"white\")\n",
    "baseball_grid = sns.PairGrid(hit_performance, diag_sharey=False)\n",
    "baseball_grid.map_lower(sns.kdeplot, cmap=\"Blues_d\")\n",
    "baseball_grid.map_upper(plt.scatter)\n",
    "baseball_grid.map_diag(sns.kdeplot, lw=3)\n",
    "plt.show()\n",
    "```\n",
    "\n",
    "Unfortunately I don't often plot in `seaborn`, so I can't answer too many questions about syntax structure of the plotting language.  The tutorial can be found here: http://seaborn.pydata.org/tutorial.html\n",
    "\n",
    "It is definitely worth learning a plotting library which creates visually pleasing graphics."
   ]
  },
  {
   "cell_type": "code",
   "execution_count": null,
   "metadata": {
    "collapsed": false
   },
   "outputs": [],
   "source": [
    "hit_performance = baseball[['Hits', 'Doubles', 'Triples', 'HR', 'Salary']].dropna()\n",
    "\n",
    "sns.set(style=\"white\")\n",
    "baseball_grid = sns.PairGrid(hit_performance, diag_sharey=False)\n",
    "baseball_grid.map_lower(sns.kdeplot, cmap=\"Blues_d\")\n",
    "baseball_grid.map_upper(plt.scatter)\n",
    "baseball_grid.map_diag(sns.kdeplot, lw=3)\n",
    "plt.show()"
   ]
  },
  {
   "cell_type": "markdown",
   "metadata": {},
   "source": [
    "<br/><br/><br/><br/><br/><br/><br/><br/><br/><br/><br/><br/><br/><br/><br/><br/><br/><br/><br/><br/><br/><br/><br/><br/><br/><br/><br/><br/><br/><br/><br/><br/><br/><br/><br/><br/><br/><br/><br/><br/><br/><br/><br/><br/><br/><br/><br/><br/><br/><br/><br/><br/><br/><br/><br/><br/><br/><br/><br/><br/><br/><br/><br/><br/><br/><br/><br/><br/><br/><br/><br/><br/><br/><br/><br/><br/><br/><br/><br/><br/><br/><br/>\n",
    "##### Iris Plot Solution"
   ]
  },
  {
   "cell_type": "code",
   "execution_count": null,
   "metadata": {
    "collapsed": false
   },
   "outputs": [],
   "source": [
    "iris = pd.read_csv('../data/iris.data')\n",
    "petals = iris[['PetalWidth', 'PetalLength', 'IrisType']]\n",
    "unique_iris = petals.IrisType.unique()\n",
    "\n",
    "# Finding axis limits\n",
    "width_lims = petals.PetalWidth.min(), petals.PetalWidth.max()\n",
    "length_lims = petals.PetalLength.min(), petals.PetalLength.max()\n",
    "\n",
    "fig, axes = plt.subplots(nrows=3, ncols=2, figsize=(15,10))\n",
    "for i, iris_type in enumerate(unique_iris):\n",
    "    type_mask = petals.IrisType == iris_type\n",
    "    \n",
    "    plt_width = petals[type_mask].PetalWidth.plot.kde(ax=axes[i, 0])\n",
    "    plt_width.set_xlim(width_lims)\n",
    "    plt_width.set_title('Petal Width - ' + iris_type)\n",
    "    \n",
    "    plt_length = petals[type_mask].PetalLength.plot.kde(ax=axes[i, 1])\n",
    "    plt_length.set_xlim(length_lims)\n",
    "    plt_length.set_title('Petal Length - ' + iris_type)"
   ]
  }
 ],
 "metadata": {
  "kernelspec": {
   "display_name": "Python 2",
   "language": "python",
   "name": "python2"
  },
  "language_info": {
   "codemirror_mode": {
    "name": "ipython",
    "version": 2
   },
   "file_extension": ".py",
   "mimetype": "text/x-python",
   "name": "python",
   "nbconvert_exporter": "python",
   "pygments_lexer": "ipython2",
   "version": "2.7.11"
  }
 },
 "nbformat": 4,
 "nbformat_minor": 0
}
