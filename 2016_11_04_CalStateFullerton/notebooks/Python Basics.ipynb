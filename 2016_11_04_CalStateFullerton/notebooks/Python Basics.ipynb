{
 "cells": [
  {
   "cell_type": "markdown",
   "metadata": {},
   "source": [
    "# A Rapid and Informal Introduction to Python for Data Science\n",
    "\n",
    "# - The Python Fundamentals\n",
    "\n",
    "#### Developed by:  Brian Vegetabile, PhD Candidate, University of California, Irvine\n",
    "\n",
    "This notebook is a supplement to the workshop \"A Rapid Informal Introduction to Python for Data Science\"\n",
    "\n",
    "## Getting Started with Jupyter Notebooks\n",
    "\n",
    "Before playing with the Python language, investigate the notebook a little bit.  Above select _Help > Keyboard Shortcuts_ and then review the shortcuts for Jupyter notebooks.  \n",
    "\n",
    "Try adding new cell blocks or Markdown cells.  Using these key strokes will make using Jupyter notebooks much easier.\n",
    "\n",
    "# Basics of the Python Language\n",
    "\n",
    "## Basic Data Types\n",
    "\n",
    "### Keywords and Identifiers\n",
    "\n",
    "- Variables in python are called object references and the names given to them are called identifiers or plainly names\n",
    "- The first character of an identifier must be a letter\n",
    "- Additionally identifiers are case sensitive\n",
    "- There are also “reserved” keywords which cannot be used as identifiers for variables or objects.\n",
    "\n",
    "\n",
    "| and | continue | except | global | lambda | raise | yield |\n",
    "|-----|----------|--------|--------|--------|-------|-------|\n",
    "| **as** | **def** | **exec** | **if** | **not** | **return** | |\n",
    "| **assert** | **del** | **finally** | **import** | **or** | **try** | | \n",
    "| **break** | **elif** | **for** | **in** | **pass** | **while** | |\n",
    "| **class** | **else** | **from** | **is** | **print** | **with** | | |\n",
    "\n",
    "Some examples are \n",
    "```python\n",
    "    myname = 'Brian'\n",
    "    todaysweather = 'Sunny'\n",
    "    tomorrowsWeather = 'Cloudy'\n",
    "    TodaysTemp = 77\n",
    "    FAVORITE_color = 'blue'\n",
    "``` \n",
    "- The convention or style for variable names should be consistent (camel case, or using underscores)\n",
    "- Notice that none of these start with a number\n",
    "\n",
    "_Example of Identifiers_\n",
    "\n",
    "- Run the following code block by clicking the block and hitting `control+enter`"
   ]
  },
  {
   "cell_type": "markdown",
   "metadata": {},
   "source": [
    "\n",
    "\n"
   ]
  },
  {
   "cell_type": "code",
   "execution_count": 22,
   "metadata": {
    "collapsed": false
   },
   "outputs": [
    {
     "name": "stdout",
     "output_type": "stream",
     "text": [
      "Brian Sunny Cloudy 77 blue\n"
     ]
    }
   ],
   "source": [
    "myname = 'Brian'\n",
    "todaysweather = 'Sunny'\n",
    "tomorrowsWeather = 'Cloudy'\n",
    "TodaysTemp = 77\n",
    "FAVORITE_color = 'blue'\n",
    "print myname, todaysweather, tomorrowsWeather, TodaysTemp, FAVORITE_color"
   ]
  },
  {
   "cell_type": "markdown",
   "metadata": {},
   "source": [
    "## Types of Numbers\n",
    "\n",
    "There are a few major types of numbers that are of basic use in Python\n",
    "\n",
    "- **boolean**\n",
    "- **integers**\n",
    "- **floating-point**\n",
    "- complex\n",
    "- decimal \n",
    "\n",
    "### Boolean Numbers\n",
    "\n",
    "- The two Boolean objects are `True` and `False`  \n",
    "    - Additionally the function `bool()` attempts to convert objects to a boolean object\n",
    "    - With no arguments it returns `False`\n",
    "    - With a Boolean object it returns a copy of the original\n",
    "    - Any other object it attempts to convert to a Boolean\n",
    "- Using values 1 and 0 instead of True and False almost always works fine, but the more appropriate syntax is to use Boolean types\n",
    "\n",
    "_Examples of Boolean Objects_ \n",
    "\n",
    "Run the following code to see what the code outputs"
   ]
  },
  {
   "cell_type": "code",
   "execution_count": 21,
   "metadata": {
    "collapsed": false
   },
   "outputs": [
    {
     "name": "stdout",
     "output_type": "stream",
     "text": [
      "a: False\n",
      "b: True\n",
      "c: False\n",
      "True\n",
      "False\n",
      "True\n",
      "False\n"
     ]
    }
   ],
   "source": [
    "a = bool()\n",
    "b = True\n",
    "c = False \n",
    "\n",
    "print \"a: {0}\".format(a)\n",
    "print \"b: {0}\".format(b)\n",
    "print \"c: {0}\".format(c)\n",
    "print 0 == False\n",
    "print 0 == True\n",
    "print 1 == True\n",
    "print 1 == False"
   ]
  },
  {
   "cell_type": "markdown",
   "metadata": {},
   "source": [
    "### Integers\n",
    "\n",
    "- Integers are of the `int` type and are specified by any number _without_ a decimal point\n",
    "\n",
    "```python\n",
    "a = 7     # This is an integer\n",
    "b = 7.0   # This is not\n",
    "c = 7.    # Neither is this\n",
    "```\n",
    "\n",
    "- After boolean numbers, integers are the most basic type\n",
    "- To attempt to convert an object to an integer type we have the function int()\n",
    "\n",
    "Let's see what each one of these becomes when we use the `type()` function on them..."
   ]
  },
  {
   "cell_type": "code",
   "execution_count": 24,
   "metadata": {
    "collapsed": false
   },
   "outputs": [
    {
     "name": "stdout",
     "output_type": "stream",
     "text": [
      "<type 'int'> <type 'float'> <type 'float'>\n"
     ]
    }
   ],
   "source": [
    "a = 7\n",
    "b = 7.0 \n",
    "c = 7.\n",
    "\n",
    "print type(a), type(b), type(c)"
   ]
  },
  {
   "cell_type": "markdown",
   "metadata": {},
   "source": [
    "Additionally let's see what happens when we convert a Boolean variable to an integer value."
   ]
  },
  {
   "cell_type": "code",
   "execution_count": 28,
   "metadata": {
    "collapsed": false
   },
   "outputs": [
    {
     "name": "stdout",
     "output_type": "stream",
     "text": [
      "<type 'bool'> <type 'int'>\n"
     ]
    }
   ],
   "source": [
    "bool_value = True\n",
    "bool_to_int = int(bool_value)\n",
    "\n",
    "print type(bool_value), type(bool_to_int)"
   ]
  },
  {
   "cell_type": "markdown",
   "metadata": {},
   "source": [
    "### Floating Point Numbers\n",
    "\n",
    "- There are a few different versions of floating point numbers in Python\n",
    "  - `float`, `complex`, `Decimal` (from the library decimal)\n",
    "  - The most often used will be the `float` and the `complex` types\n",
    "  - The `Decimal` type can be used for really high precision operations\n",
    "- As with `int()` and `bool()`, there is a function `float()` which can be used to create objects of the `float` type or convert objects to the `float` type"
   ]
  },
  {
   "cell_type": "code",
   "execution_count": 35,
   "metadata": {
    "collapsed": false
   },
   "outputs": [
    {
     "name": "stdout",
     "output_type": "stream",
     "text": [
      "<type 'int'> <type 'float'>\n",
      "True\n"
     ]
    }
   ],
   "source": [
    "int_value = 5\n",
    "float_value = 5.0\n",
    "int_to_float = float(int_value)\n",
    "\n",
    "print type(int_value), type(int_to_float)\n",
    "print int_value == int_to_float"
   ]
  },
  {
   "cell_type": "markdown",
   "metadata": {},
   "source": [
    "### Useful Numeric Operators and Functions\n",
    "\n",
    "| Syntax | Description | \n",
    "|:------:|:------------| \n",
    "| `x + y` | Adds number x and number y | \n",
    "| `x - y` | Subtracts y from x|\n",
    "|`x * y` | Multiplies x by y|\n",
    "|`x / y` | Divides x by y|\n",
    "|`x // y` | Floor division of x by y; returns int type|\n",
    "|`x % y` | Modulus operation; remainder of dividing x by y|\n",
    "|`x**y` | x raised to the power y|\n",
    "|`abs(x)` | Takes the absolute value of x|\n",
    "|`round(x, n)` | Rounds x to the n digits. |"
   ]
  },
  {
   "cell_type": "code",
   "execution_count": 41,
   "metadata": {
    "collapsed": false
   },
   "outputs": [
    {
     "name": "stdout",
     "output_type": "stream",
     "text": [
      "\n",
      "Some simple mathematical operations\n",
      "\n",
      "a + b      = 18.0\n",
      "b**c       = 50625.0\n",
      "round(b/c) = 4.0\n",
      "\n"
     ]
    }
   ],
   "source": [
    "a = 3.\n",
    "b = 15. \n",
    "c = 4\n",
    "\n",
    "print \"\"\"\n",
    "Some simple mathematical operations\n",
    "\n",
    "a + b      = {}\n",
    "b**c       = {}\n",
    "round(b/c) = {}\n",
    "\"\"\".format(a+b, \n",
    "           b**c, \n",
    "           round(b/c))"
   ]
  },
  {
   "cell_type": "markdown",
   "metadata": {},
   "source": [
    "### The quirkiness of Integer Division\n",
    "\n",
    "- A feature that almost always trips up those new to Python is the way in which integer division works\n",
    "- Consider the variable\n",
    "```python\n",
    "a = 1/3\n",
    "```\n",
    "Let's run this code and see what happens"
   ]
  },
  {
   "cell_type": "code",
   "execution_count": 42,
   "metadata": {
    "collapsed": false
   },
   "outputs": [
    {
     "name": "stdout",
     "output_type": "stream",
     "text": [
      "0\n"
     ]
    }
   ],
   "source": [
    "a = 1/3\n",
    "print a"
   ]
  },
  {
   "cell_type": "markdown",
   "metadata": {},
   "source": [
    "Now it would be understandable to think that this should return `0.333333333`, but what is happening is that when dividing two integers floor division is performed and another variable of type `int` is returned.  This is why we obtain a 0.  \n"
   ]
  }
 ],
 "metadata": {
  "kernelspec": {
   "display_name": "Python 2",
   "language": "python",
   "name": "python2"
  },
  "language_info": {
   "codemirror_mode": {
    "name": "ipython",
    "version": 2
   },
   "file_extension": ".py",
   "mimetype": "text/x-python",
   "name": "python",
   "nbconvert_exporter": "python",
   "pygments_lexer": "ipython2",
   "version": "2.7.11"
  }
 },
 "nbformat": 4,
 "nbformat_minor": 0
}
