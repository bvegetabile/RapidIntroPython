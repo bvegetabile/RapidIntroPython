{
 "cells": [
  {
   "cell_type": "markdown",
   "metadata": {},
   "source": [
    "# A Rapid and Informal Introduction to Python for Data Science\n",
    "\n",
    "# - The Python Fundamentals\n",
    "\n",
    "#### Developed by:  Brian Vegetabile, PhD Candidate, University of California, Irvine\n",
    "\n",
    "This notebook is a supplement to the workshop \"A Rapid Informal Introduction to Python for Data Science\"\n",
    "\n",
    "# Python Exercises\n",
    "\n",
    "## Exercise 1 - Investigate the Variable Types\n",
    "\n",
    "Create a variable of each type:\n",
    "- Boolean\n",
    "- Integer\n",
    "- Float\n",
    "- List\n",
    "- Dictionary"
   ]
  },
  {
   "cell_type": "code",
   "execution_count": 46,
   "metadata": {
    "collapsed": false
   },
   "outputs": [],
   "source": []
  },
  {
   "cell_type": "markdown",
   "metadata": {},
   "source": [
    "For each variable that you created use the `dir()` function to see what attributes and methods are available to these objects.  Try and see what works and what doens't with each data type"
   ]
  },
  {
   "cell_type": "code",
   "execution_count": 48,
   "metadata": {
    "collapsed": false
   },
   "outputs": [
    {
     "data": {
      "text/plain": [
       "'Brian'"
      ]
     },
     "execution_count": 48,
     "metadata": {},
     "output_type": "execute_result"
    }
   ],
   "source": []
  },
  {
   "cell_type": "markdown",
   "metadata": {
    "collapsed": true
   },
   "source": [
    "Notice that the object you created that stores integers is truly an **object** and comes with specific methods.  If you type _`object.<tab>`_ then you can see a list of all of the methods and attributes of that oject that do not contain an underscore. This is true for all objects that you created above."
   ]
  },
  {
   "cell_type": "markdown",
   "metadata": {},
   "source": [
    "## Exercise 2 - Investigate Integer Division\n",
    "\n",
    "Consider the following variables below.  Modify the code so that 1.5 is returned as opposed to 1.0\n",
    "\n",
    "```python\n",
    "int_value1 = 3\n",
    "int_value2 = 2\n",
    "print int_value1 / int_value2\n",
    "```"
   ]
  },
  {
   "cell_type": "code",
   "execution_count": null,
   "metadata": {
    "collapsed": false
   },
   "outputs": [],
   "source": []
  },
  {
   "cell_type": "markdown",
   "metadata": {},
   "source": [
    "## Exercise 3 - Collections and Loops\n",
    "\n",
    "We're going to write a few programs here:\n",
    "\n",
    "- A short program which uses a `for` loop that iterates over the list and prints each name\n",
    "- A short program which uses a `for` loop that iterates over the list and prints each name **and** its location in the list\n",
    "    - Do this a few different ways:\n",
    "        - Create a counter within the standard loop\n",
    "        - Use the `range()` function \n",
    "        - Use the `enumerate()` function\n",
    "- A short program which uses a `while` loop to print each name.\n",
    "    - Note you will want to create a counter to do this"
   ]
  },
  {
   "cell_type": "code",
   "execution_count": null,
   "metadata": {
    "collapsed": true
   },
   "outputs": [],
   "source": [
    "bag_of_names = ['Brian', 'Steve', 'Michael', 'Ross', 'Brett', 'Chris', 'Dan']"
   ]
  },
  {
   "cell_type": "markdown",
   "metadata": {},
   "source": [
    "## Exercise 4 - Fizz Buzz (Logical Operations and Loops)\n",
    "\n",
    "This exercise focuses on understanding the precedence of conditional statements.  Write a function called `fizz_buzz()` which accepts an integer $n$.  The program should test each number from zero to $n$ and for multiples of three print “Fizz” and the number and for the multiples of five print “Buzz” and the number. For numbers which are multiples of both three and five print “FizzBuzz”.  "
   ]
  },
  {
   "cell_type": "code",
   "execution_count": null,
   "metadata": {
    "collapsed": true
   },
   "outputs": [],
   "source": []
  },
  {
   "cell_type": "markdown",
   "metadata": {},
   "source": [
    "## Exercise 5 - Playing with Lists and Strings\n",
    "\n",
    "Strings are one of the major reasons why I recommend most people work with Python.  Below is a multi-line string block containing a snippet of statistics of the Philadelphia Phillies performance from Game 5 of the 2008 World Series (they happened to win the series on this game).  \n",
    "\n",
    "The task here is to create usernames from each of the Philadelphia Phillie players names.  The format of the user name is as follows:\n",
    "\n",
    "```\n",
    "firstinitial_lastname_Position\n",
    "```\n",
    "\n",
    "Additionally, ensure that the entire username is lowercase.  \n",
    "\n",
    "There are a few methods available to strings that will be useful.\n",
    "\n",
    "```python\n",
    ".split()\n",
    ".lower()\n",
    ".join()\n",
    "```\n",
    "\n",
    "To get help in a python or a Jupyter notebook type\n",
    "\n",
    "```python\n",
    "help(str.split())\n",
    "```\n",
    "\n",
    "You may want to think about how to attack the string before you jump in.  To accomplish this you'll need to understand indexing, loops, and strings.  One additional hint is that character returns are included in the string as `\\n`.  \n",
    "\n",
    "\n",
    "\n"
   ]
  },
  {
   "cell_type": "code",
   "execution_count": 61,
   "metadata": {
    "collapsed": false
   },
   "outputs": [],
   "source": [
    "# Below are statistics of Game 5 of the 2008 World Series Philadelphia Phillies.  \n",
    "PhiladelphiaPhillies = \\\n",
    "\"\"\"FirstName LastName Pos AB R H RBI BB SO\n",
    "Jimmy Rollins SS 3 0 0 0 1 0\n",
    "Jayson Werth RF 3 1 2 1 2 1\n",
    "Chase Utley 2B 3 1 0 0 1 1\n",
    "Ryan Howard 1B 4 0 0 0 1 3\n",
    "Pat Burrell LF 2 0 1 0 2 0\n",
    "Eric Bruntlett PR-LF 0 1 0 0 0 0\n",
    "Shane Victorino CF 4 0 1 2 0 1\n",
    "Pedro Feliz 3B 4 0 2 1 0 1\n",
    "Carlos Ruiz C 4 0 1 0 0 0\n",
    "Cole Hamels P 2 0 0 0 0 1\n",
    "Geoff Jenkins PH 1 1 1 0 0 0\n",
    "Ryan Madson P 0 0 0 0 0 0\n",
    "J.C. Romero P 1 0 0 0 0 0\n",
    "Brad Lidge P 0 0 0 0 0 0\"\"\""
   ]
  },
  {
   "cell_type": "code",
   "execution_count": 72,
   "metadata": {
    "collapsed": false,
    "scrolled": true
   },
   "outputs": [
    {
     "name": "stdout",
     "output_type": "stream",
     "text": [
      "f_lastname_pos\n",
      "j_rollins_ss\n",
      "j_werth_rf\n",
      "c_utley_2b\n",
      "r_howard_1b\n",
      "p_burrell_lf\n",
      "e_bruntlett_pr-lf\n",
      "s_victorino_cf\n",
      "p_feliz_3b\n",
      "c_ruiz_c\n",
      "c_hamels_p\n",
      "g_jenkins_ph\n",
      "r_madson_p\n",
      "j_romero_p\n",
      "b_lidge_p\n"
     ]
    }
   ],
   "source": [
    "lines = PhiladelphiaPhillies.split('\\n')\n",
    "for line in lines:\n",
    "    item = line.split(' ')[0:3]\n",
    "    username = \"_\".join([item[0][0].lower(), item[1].lower(), item[2].lower()])\n",
    "    print username"
   ]
  },
  {
   "cell_type": "markdown",
   "metadata": {},
   "source": [
    "## Exercise 6 - Finding Primes\n",
    "\n",
    "A prime number is a number that is only divisible by itself and the number 1, where the first prime number is 2.  This exercise has you building a small script which finds the primes that are less than some number `n` specified at the top.  \n",
    "\n",
    "The general idea is to consider that each number is a prime until proven otherwise, that is utilize the fact that every integer greater than 1 either is prime itself or is the product of prime numbers.  So we iterate through some candidate list of prime numbers and check if it is divisible by any other prime that we have already found.  \n",
    "\n",
    "I've started you with the first three lines. \n",
    "\n",
    "Here is a website with a list off the first 100 primes to check your answers...\n",
    "http://www.rsok.com/~jrm/first100primes.html"
   ]
  },
  {
   "cell_type": "code",
   "execution_count": 75,
   "metadata": {
    "collapsed": false
   },
   "outputs": [
    {
     "name": "stdout",
     "output_type": "stream",
     "text": [
      "[2, 3, 5, 7, 11, 13, 17, 19, 23, 29, 31, 37, 41, 43, 47, 53, 59, 61, 67, 71, 73, 79, 83, 89, 97]\n"
     ]
    }
   ],
   "source": [
    "n = 100\n",
    "candidate_primes = range(3,n)\n",
    "primes = [2]\n",
    "for num in candidate_primes:\n",
    "    for i, prime in enumerate(primes):\n",
    "        if not num % prime:\n",
    "            break\n",
    "    if (i+1) == len(primes):\n",
    "        primes.append(num)\n",
    "print primes"
   ]
  },
  {
   "cell_type": "markdown",
   "metadata": {},
   "source": [
    "\n",
    "\n"
   ]
  }
 ],
 "metadata": {
  "kernelspec": {
   "display_name": "Python 2",
   "language": "python",
   "name": "python2"
  },
  "language_info": {
   "codemirror_mode": {
    "name": "ipython",
    "version": 2
   },
   "file_extension": ".py",
   "mimetype": "text/x-python",
   "name": "python",
   "nbconvert_exporter": "python",
   "pygments_lexer": "ipython2",
   "version": "2.7.11"
  }
 },
 "nbformat": 4,
 "nbformat_minor": 0
}
