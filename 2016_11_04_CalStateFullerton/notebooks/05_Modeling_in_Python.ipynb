{
 "cells": [
  {
   "cell_type": "markdown",
   "metadata": {},
   "source": [
    "# A Rapid and Informal Introduction to Python for Data Science\n",
    "\n",
    "# - Modeling Packages in Python - Statsmodels & Scikit-Learn\n",
    "\n",
    "#### Developed by:  Brian Vegetabile, PhD Candidate, University of California, Irvine\n",
    "\n",
    "This notebook is a supplement to the workshop \"A Rapid and Informal Introduction to Python for Data Science\"\n",
    "\n",
    "# Getting Started\n",
    "\n",
    "Let's add run our beginning piece of code to import the libraries and packages we'll need.\n",
    "\n",
    "```python\n",
    "import numpy as np\n",
    "import pandas as pd\n",
    "import matplotlib.pyplot as plt\n",
    "import statsmodels.api as sm\n",
    "%matplotlib inline\n",
    "```"
   ]
  },
  {
   "cell_type": "code",
   "execution_count": null,
   "metadata": {
    "collapsed": false
   },
   "outputs": [],
   "source": [
    "import numpy as np\n",
    "import pandas as pd\n",
    "import matplotlib.pyplot as plt\n",
    "import statsmodels.api as sm              # Statsmodels interactive version\n",
    "import statsmodels.formula.api as smf     # Statsmodels formula version similar to R\n",
    "%matplotlib inline"
   ]
  },
  {
   "cell_type": "markdown",
   "metadata": {},
   "source": [
    "# Inferential Models in Python -  Statsmodels\n",
    "\n",
    "We won't do too in depth into either package, but did want to provide a few examples of them so that you know they exist.  After this you should have all of the tools needed to get up and running with Python for data science and statistics.  \n",
    "\n",
    "http://statsmodels.sourceforge.net/devel/index.html\n",
    "\n",
    "In the numpy section we introduced linear regression and showed it as an example for matrix manipulation.  We go back to that here and show how both statsmodels and sklearn perform linear regression.  \n",
    "\n",
    "First let's simulate some data again:\n",
    "\n",
    "```python\n",
    "np.random.seed(333)\n",
    "\n",
    "beta0 = 5\n",
    "beta1 = 1\n",
    "n = 1000\n",
    "X = np.random.normal(size=n)\n",
    "noise = np.random.normal(size=n)\n",
    "Y = beta0 + beta1*X + noise\n",
    "```\n",
    "\n",
    "This is the same data that was simulated earlier.  \n"
   ]
  },
  {
   "cell_type": "code",
   "execution_count": null,
   "metadata": {
    "collapsed": true
   },
   "outputs": [],
   "source": []
  },
  {
   "cell_type": "markdown",
   "metadata": {},
   "source": [
    "Statsmodels has two ways of analyzing this data.  We'll start with the `numpy` version before introducing the formulaic version.  \n",
    "\n",
    "Take a look at our data, it doesn't have a column of ones needed for linear regression yet.  Statsmodels provides a nice function that can add this for us.  \n",
    "\n",
    "```python\n",
    "sm.add_constant(array)\n",
    "``` \n",
    "\n",
    "Let's take a look at what that does\n",
    "\n",
    "```python\n",
    "X = sm.add_constant(X)\n",
    "print X\n",
    "```"
   ]
  },
  {
   "cell_type": "code",
   "execution_count": null,
   "metadata": {
    "collapsed": false,
    "scrolled": true
   },
   "outputs": [],
   "source": []
  },
  {
   "cell_type": "markdown",
   "metadata": {},
   "source": [
    "To fit a simple model we can use the `OLS` module of the `statsmodels.api` with the format\n",
    "\n",
    "```python\n",
    "ols_model = sm.OLS(response, design_matrix)\n",
    "```\n",
    "\n",
    "This returns an OLS object and hasn't done anything yet with the data.  To actually fit the model we have to call the `.fit()` method of an OLS object.\n",
    "\n",
    "```python\n",
    "model_fit = ols_model.fit()\n",
    "```\n",
    "\n",
    "We can then return the results using the `summary` method of a model fit.  \n",
    "\n",
    "```python\n",
    "model_fit.summary()\n",
    "```\n",
    "\n",
    "###### Mini Exercise - Fit a model with the Y and X data to test out this function.\n",
    "\n",
    "After you've fit the model see what else is available to an `ols` model after it has been fit.  Most of the statistical summaries that you would want are there. "
   ]
  },
  {
   "cell_type": "code",
   "execution_count": null,
   "metadata": {
    "collapsed": false
   },
   "outputs": [],
   "source": []
  },
  {
   "cell_type": "markdown",
   "metadata": {},
   "source": [
    "### Statsmodels with R Style formulas\n",
    "\n",
    "Another way to use statsmodels is using `R` style formulas from the `statsmodels.formula.api`.  We'll continue with the same simulated data as before.\n",
    "\n",
    "```python\n",
    "np.random.seed(333)\n",
    "\n",
    "beta0 = 5\n",
    "beta1 = 1\n",
    "n = 1000\n",
    "X = np.random.normal(size=n)\n",
    "noise = np.random.normal(size=n)\n",
    "Y = beta0 + beta1*X + noise\n",
    "```\n",
    "\n",
    "To use these formulas, we can create a pandas DataFrame (or simply a dictionary) of our data.  This will let us use the formula style calls from `R`.  \n",
    "\n",
    "```python\n",
    "dat = pd.DataFrame({'Y':Y, 'X':X})\n",
    "```\n",
    "\n",
    "and then can use the following to fit our model\n",
    "\n",
    "```python\n",
    "smf.ols('Y ~ X', data=dat).fit().summary()\n",
    "```\n",
    "\n",
    "Notice that `OLS` is lowercased in this example.  The `smf` package also has `OLS` which allows for the numpy computation as well.  "
   ]
  },
  {
   "cell_type": "raw",
   "metadata": {},
   "source": []
  },
  {
   "cell_type": "markdown",
   "metadata": {},
   "source": [
    "# Predictive Models in Python with Scikit-Learn\n",
    "\n",
    "An alternative package to using `statsmodels` is to use the `scikit-learn` package in Python.  \n",
    "\n",
    "http://scikit-learn.org/stable/\n",
    "\n",
    "This package is primarily used for predictive modeling and machine learning in Python and isn't really suited for inference as you'll see shortly.  \n",
    "\n",
    "Let's do our linear regression model again \n",
    "\n",
    "```python\n",
    "from sklearn import linear_model\n",
    "```"
   ]
  },
  {
   "cell_type": "code",
   "execution_count": null,
   "metadata": {
    "collapsed": true
   },
   "outputs": [],
   "source": [
    "from sklearn import linear_model"
   ]
  },
  {
   "cell_type": "markdown",
   "metadata": {},
   "source": [
    "To create a linear regression model,\n",
    "\n",
    "- Calling `linear_model.LinearRegression()` creates an object of class  `sklearn.linear_model.base.LinearRegression`\n",
    "    - Defaults \n",
    "        - `fit_intercept = True`: automatically adds a column vector of ones for an intercept\n",
    "        - `normalize = False`: defaults to not normalizing the input predictors\n",
    "        - `copy_X = False`: defaults to not copying X\n",
    "        - `n_jobs = 1`: The number of jobs to use for the computation. If -1 all CPUs are used. This will only provide speedup for n_targets > 1 and sufficient large problems.\n",
    "    - Example\n",
    "        - `lmr = linear_model.LinearRegression()`\n",
    "- To fit a model, the method `.fit(X,y)` can be used\n",
    "    - X must be a column vector for scikit-learn\n",
    "        - This can be accomplished by creating a DataFrame using `pd.DataFrame()`\n",
    "    - Example\n",
    "        - lmr.fit(X,y)\n",
    "- To see the $\\beta$ estimates use `.coef_` for the coefficients for the predictors and `.intercept_` for $\\beta_0$\n",
    "\n",
    "On our data this will become \n",
    "\n",
    "```python\n",
    "X_colvec = X[:, np.newaxis]\n",
    "Y_colvec = Y[:, np.newaxis]\n",
    "\n",
    "lmr = linear_model.LinearRegression()\n",
    "model_fit = lmr.fit(X_colvec, Y_colvec)\n",
    "print model_fit.coef_, model_fit.intercept\n",
    "```"
   ]
  },
  {
   "cell_type": "code",
   "execution_count": null,
   "metadata": {
    "collapsed": false
   },
   "outputs": [],
   "source": [
    "np.random.seed(333)\n",
    "\n",
    "beta0 = 5\n",
    "beta1 = 1\n",
    "n = 1000\n",
    "X = np.random.normal(size=n)\n",
    "noise = np.random.normal(size=n)\n",
    "Y = beta0 + beta1*X + noise\n",
    "\n",
    "X = X[:, np.newaxis]\n",
    "Y = Y[:, np.newaxis]\n",
    "\n",
    "lmr = linear_model.LinearRegression()\n",
    "model_fit = lmr.fit(X, Y)\n",
    "print model_fit.coef_, model_fit.intercept_"
   ]
  },
  {
   "cell_type": "markdown",
   "metadata": {},
   "source": [
    "We see that this very similar to how the `statsmodel` linear regression works, where we create an object and then subsequently fit a model using the method of that object.  \n",
    "\n",
    "A major differenece between the two is what we get back in the end.  The `statsmodel` object has many inferential things that we would want, including the variance of the estimates of thr $\\beta$ coeffients.  The `sklearn` model does not have these but has many functions for predicting out of sample values and evaluating model performance on new data.  They are do similar functions but were developed for completely different tasks.  That is part of the reason for highlighting both of these packages quickly."
   ]
  },
  {
   "cell_type": "markdown",
   "metadata": {},
   "source": [
    "# Exercise - Old Faithful Data\n",
    "\n",
    "Use the dataset `oldfaithful.csv` to perform a linear regression to estimate the `waiting` time until the next eruption based upon the `eruption` time in minutes.  \n",
    "\n",
    "```python\n",
    "oldfaithful = pd.read_csv('data/oldfaithful.csv')\n",
    "```\n",
    "\n",
    "Choose to either practice with `sklearn` or `statsmodels`"
   ]
  },
  {
   "cell_type": "code",
   "execution_count": null,
   "metadata": {
    "collapsed": true
   },
   "outputs": [],
   "source": []
  },
  {
   "cell_type": "markdown",
   "metadata": {},
   "source": [
    "# Moving on from here... Practice Datasets\n",
    "\n",
    "From the `statsmodels` package, many of the same datasets that are available in `R` have been made available in `Python`\n",
    "\n",
    "```python\n",
    "# Example dataset load\n",
    "import statsmodels.api as sm\n",
    "sunspots = sm.datasets.sunspots.load_pandas().data\n",
    "```\n",
    "\n",
    "Alternatively you can get data from the UCI Machine Learning Repository.\n",
    "\n",
    "http://archive.ics.uci.edu/ml/\n",
    "\n",
    "###### Practice, practice, practice"
   ]
  },
  {
   "cell_type": "code",
   "execution_count": null,
   "metadata": {
    "collapsed": false
   },
   "outputs": [],
   "source": []
  }
 ],
 "metadata": {
  "kernelspec": {
   "display_name": "Python 2",
   "language": "python",
   "name": "python2"
  },
  "language_info": {
   "codemirror_mode": {
    "name": "ipython",
    "version": 2
   },
   "file_extension": ".py",
   "mimetype": "text/x-python",
   "name": "python",
   "nbconvert_exporter": "python",
   "pygments_lexer": "ipython2",
   "version": "2.7.11"
  }
 },
 "nbformat": 4,
 "nbformat_minor": 0
}
